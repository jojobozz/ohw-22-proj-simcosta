{
 "cells": [
  {
   "cell_type": "code",
   "execution_count": null,
   "metadata": {},
   "outputs": [],
   "source": [
    "from pathlib import Path\n",
    "\n",
    "\n",
    "datadir = Path(\"data/00-data\")"
   ]
  },
  {
   "cell_type": "code",
   "execution_count": null,
   "metadata": {},
   "outputs": [],
   "source": [
    "from scipy.io import loadmat\n",
    "import janitor\n",
    "import pandas as pd\n",
    "\n",
    "\n",
    "def load_file(fname):\n",
    "    return loadmat(fname)\n",
    "\n",
    "\n",
    "def clean_datastruc(data):\n",
    "    d = {}\n",
    "    for rec, values in data.items():\n",
    "        if not rec.startswith(\"__\"):\n",
    "            d .update({rec: values.squeeze()})\n",
    "    return pd.DataFrame.from_dict(d)\n",
    "\n",
    "\n",
    "def clean_series(df):\n",
    "    df = df.clean_names(case_type=\"lower\").convert_matlab_date(\"datenum\")\n",
    "    df = df.set_index(\"datenum\")\n",
    "    df.index.name = \"datetime\"\n",
    "    return df[\"values_good\"]\n",
    "\n",
    "\n",
    "def variable_name(fname):\n",
    "    return fname.stem.lower().strip(\"sc1_\").replace(\"wqmx\", \"water\").replace(\"atm_atm\", \"atm\")"
   ]
  },
  {
   "cell_type": "code",
   "execution_count": null,
   "metadata": {},
   "outputs": [],
   "source": [
    "series = {}\n",
    "\n",
    "\n",
    "for fname in datadir.glob(\"*.mat\"):\n",
    "    data = load_file(fname)\n",
    "    s = clean_datastruc(data)\n",
    "    s = clean_series(s)\n",
    "    series.update({variable_name(fname): s})\n",
    "\n",
    "\n",
    "df = pd.DataFrame(series)"
   ]
  },
  {
   "cell_type": "code",
   "execution_count": null,
   "metadata": {
    "scrolled": false
   },
   "outputs": [],
   "source": [
    "axes = df.plot(\n",
    "    subplots=True,\n",
    "    layout=(12, 1),\n",
    "    figsize=(13, 17),\n",
    "    marker=\".\"\n",
    ")\n",
    "\n",
    "[ax.legend(bbox_to_anchor=(1.125, 1.05)) for ax in axes.ravel()];"
   ]
  },
  {
   "cell_type": "markdown",
   "metadata": {},
   "source": [
    "# Exercício: plotar uma rosa dos ventos."
   ]
  },
  {
   "cell_type": "code",
   "execution_count": null,
   "metadata": {},
   "outputs": [],
   "source": [
    "from windrose import WindroseAxes\n",
    "\n",
    "\n"
   ]
  }
 ],
 "metadata": {
  "kernelspec": {
   "display_name": "Python 3 (ipykernel)",
   "language": "python",
   "name": "python3"
  },
  "language_info": {
   "codemirror_mode": {
    "name": "ipython",
    "version": 3
   },
   "file_extension": ".py",
   "mimetype": "text/x-python",
   "name": "python",
   "nbconvert_exporter": "python",
   "pygments_lexer": "ipython3",
   "version": "3.10.5"
  }
 },
 "nbformat": 4,
 "nbformat_minor": 2
}
